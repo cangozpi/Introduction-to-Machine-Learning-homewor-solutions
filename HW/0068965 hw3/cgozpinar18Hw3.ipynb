{
 "metadata": {
  "language_info": {
   "codemirror_mode": {
    "name": "ipython",
    "version": 3
   },
   "file_extension": ".py",
   "mimetype": "text/x-python",
   "name": "python",
   "nbconvert_exporter": "python",
   "pygments_lexer": "ipython3",
   "version": "3.8.5-final"
  },
  "orig_nbformat": 2,
  "kernelspec": {
   "name": "python3",
   "display_name": "Python 3"
  }
 },
 "nbformat": 4,
 "nbformat_minor": 2,
 "cells": [
  {
   "source": [
    "## Can Gözpınar 68965\n",
    "### Homework"
   ],
   "cell_type": "markdown",
   "metadata": {}
  },
  {
   "cell_type": "code",
   "execution_count": 180,
   "metadata": {},
   "outputs": [],
   "source": [
    "import numpy as np\n",
    "import pandas as pd"
   ]
  },
  {
   "source": [
    "### Read the data files"
   ],
   "cell_type": "markdown",
   "metadata": {}
  },
  {
   "cell_type": "code",
   "execution_count": 181,
   "metadata": {},
   "outputs": [],
   "source": [
    "#read in data from csv files\n",
    "dataSetImages = np.genfromtxt(\"hw03_data_set_images.csv\", delimiter = \",\") #data \n",
    "dataSetLabels = np.genfromtxt(\"hw03_data_set_labels.csv\", dtype = 'str') #labels\n",
    "#get rid of \"\" around class names\n",
    "dataSetLabels = np.char.strip(dataSetLabels, '\"').astype(str)\n",
    "dataSet = np.hstack((dataSetImages, dataSetLabels[:, None])) #321th column is label of the xi"
   ]
  },
  {
   "source": [
    "### Divide the data"
   ],
   "cell_type": "markdown",
   "metadata": {}
  },
  {
   "cell_type": "code",
   "execution_count": 182,
   "metadata": {},
   "outputs": [],
   "source": [
    "#first 25 of each class to training set\n",
    "trainingDataSet = np.vstack((dataSet[dataSet[:,-1] == 'A'][0:25], dataSet[dataSet[:,-1] == 'B'][0:25], dataSet[dataSet[:,-1] == 'C'][0:25], dataSet[dataSet[:,-1] == 'D'][0:25], dataSet[dataSet[:,-1] == 'E'][0:25]))\n",
    "\n",
    "#last 14 of each class to test set\n",
    "testDataSet = np.vstack((dataSet[dataSet[:,-1] == 'A'][25:], dataSet[dataSet[:,-1] == 'B'][25:], dataSet[dataSet[:,-1] == 'C'][25:], dataSet[dataSet[:,-1] == 'D'][25:], dataSet[dataSet[:,-1] == 'E'][25:]))"
   ]
  },
  {
   "source": [
    "### Estimate parameters"
   ],
   "cell_type": "markdown",
   "metadata": {}
  },
  {
   "cell_type": "code",
   "execution_count": 183,
   "metadata": {},
   "outputs": [],
   "source": [
    "#estimate parameteres\n",
    "pcd1 = np.sum(trainingDataSet[trainingDataSet[:,-1] == 'A'][:,:-1].astype(float), axis = 0) * (1 / trainingDataSet[trainingDataSet[:,-1] == 'A'].shape[0])\n",
    "\n",
    "pcd2 = np.sum(trainingDataSet[trainingDataSet[:,-1] == 'B'][:,:-1].astype(float), axis = 0) * (1 / trainingDataSet[trainingDataSet[:,-1] == 'B'].shape[0])\n",
    "\n",
    "pcd3 = np.sum(trainingDataSet[trainingDataSet[:,-1] == 'C'][:,:-1].astype(float), axis = 0) * (1 / trainingDataSet[trainingDataSet[:,-1] == 'C'].shape[0])\n",
    "\n",
    "pcd4 = np.sum(trainingDataSet[trainingDataSet[:,-1] == 'D'][:,:-1].astype(float), axis = 0) * (1 / trainingDataSet[trainingDataSet[:,-1] == 'D'].shape[0])\n",
    "\n",
    "pcd5 = np.sum(trainingDataSet[trainingDataSet[:,-1] == 'E'][:,:-1].astype(float), axis = 0) * (1 / trainingDataSet[trainingDataSet[:,-1] == 'E'].shape[0])\n",
    "\n",
    "#estimate prior probabilities\n",
    "prior1 = trainingDataSet[trainingDataSet[:,-1] == 'A'].shape[0] / trainingDataSet.shape[0]\n",
    "prior2 = trainingDataSet[trainingDataSet[:,-1] == 'A'].shape[0] / trainingDataSet.shape[0]\n",
    "prior3 = trainingDataSet[trainingDataSet[:,-1] == 'A'].shape[0] / trainingDataSet.shape[0]\n",
    "prior4 = trainingDataSet[trainingDataSet[:,-1] == 'A'].shape[0] / trainingDataSet.shape[0]\n",
    "prior5 = trainingDataSet[trainingDataSet[:,-1] == 'A'].shape[0] / trainingDataSet.shape[0]"
   ]
  },
  {
   "cell_type": "code",
   "execution_count": 184,
   "metadata": {},
   "outputs": [],
   "source": [
    "#uncomment to print the estimate parameters\n",
    "#print(pcd1)\n",
    "#print(pcd2)\n",
    "#print(pcd3)\n",
    "#print(pcd4)\n",
    "#print(pcd5)"
   ]
  },
  {
   "source": [
    "### Draw parameter estimations as Images"
   ],
   "cell_type": "markdown",
   "metadata": {}
  },
  {
   "cell_type": "code",
   "execution_count": 185,
   "metadata": {},
   "outputs": [
    {
     "output_type": "execute_result",
     "data": {
      "text/plain": [
       "<matplotlib.image.AxesImage at 0x7f59774acbe0>"
      ]
     },
     "metadata": {},
     "execution_count": 185
    },
    {
     "output_type": "display_data",
     "data": {
      "text/plain": "<Figure size 432x288 with 1 Axes>",
      "image/svg+xml": "<?xml version=\"1.0\" encoding=\"utf-8\" standalone=\"no\"?>\n<!DOCTYPE svg PUBLIC \"-//W3C//DTD SVG 1.1//EN\"\n  \"http://www.w3.org/Graphics/SVG/1.1/DTD/svg11.dtd\">\n<!-- Created with matplotlib (https://matplotlib.org/) -->\n<svg height=\"231.84pt\" version=\"1.1\" viewBox=\"0 0 177.48 231.84\" width=\"177.48pt\" xmlns=\"http://www.w3.org/2000/svg\" xmlns:xlink=\"http://www.w3.org/1999/xlink\">\n <metadata>\n  <rdf:RDF xmlns:cc=\"http://creativecommons.org/ns#\" xmlns:dc=\"http://purl.org/dc/elements/1.1/\" xmlns:rdf=\"http://www.w3.org/1999/02/22-rdf-syntax-ns#\">\n   <cc:Work>\n    <dc:type rdf:resource=\"http://purl.org/dc/dcmitype/StillImage\"/>\n    <dc:date>2020-11-23T22:16:53.423924</dc:date>\n    <dc:format>image/svg+xml</dc:format>\n    <dc:creator>\n     <cc:Agent>\n      <dc:title>Matplotlib v3.3.2, https://matplotlib.org/</dc:title>\n     </cc:Agent>\n    </dc:creator>\n   </cc:Work>\n  </rdf:RDF>\n </metadata>\n <defs>\n  <style type=\"text/css\">*{stroke-linecap:butt;stroke-linejoin:round;}</style>\n </defs>\n <g id=\"figure_1\">\n  <g id=\"patch_1\">\n   <path d=\"M 0 231.84 \nL 177.48 231.84 \nL 177.48 0 \nL 0 0 \nz\n\" style=\"fill:none;\"/>\n  </g>\n  <g id=\"axes_1\">\n   <g clip-path=\"url(#pe638e87a22)\">\n    <image height=\"218\" id=\"image4acfa05aac\" transform=\"scale(1 -1)translate(0 -218)\" width=\"164\" x=\"7.2\" xlink:href=\"data:image/png;base64,\niVBORw0KGgoAAAANSUhEUgAAAKQAAADaCAYAAAAonenwAAAFYUlEQVR4nO3dMVKUWxSF0fZVJ4gZatZoKKRMx4npSIw17hRSIQTJRELeFM62uNVbXSs+1dX+fPUHnrq3X3z69OlpM7Tf76ejm4uLi4PP/q1+/Pgxnv38+fN49uvXr+PZN2/ejGcT/y35VPhNgqSKIKkiSKoIkiqCpIogqSJIqgiSKoKkyvb79+/j4aurqyWzyRrqb10d/vr169BfIfoOd3d349mXL1+OZ70hqSJIqgiSKoKkiiCpIkiqCJIqgqSKIKkiSKpsHx8fx8PJOvD09HQ8m5x2S1aHyXc4tGS9lqz4kr/Z9fX1ePbdu3fjWatD/liCpIogqSJIqgiSKoKkiiCpIkiqCJIqgqTKNjnxl1yUmUhWVskqLFlZJVY8h1XfdRWnDvknCJIqgqSKIKkiSKoIkiqCpIogqSJIqgiSKttkrXN0dDSeTdZrySm6ZM34+vXr8eyK3+57eHhYMntzczOeTZ5X8rkfPnwYz56dnY1nvSGpIkiqCJIqgqSKIKkiSKoIkiqCpIogqSJIqmxXrdeSNVRygi1ZSe73+/Fssr6cXtaZ/LsSyXdN/r7J7Kp1rzckVQRJFUFSRZBUESRVBEkVQVJFkFQRJFWi+yGTnxNLJFud5H7I3W73O1/n2dze3i753OTnAJPNVnLgb9VP4XlDUkWQVBEkVQRJFUFSRZBUESRVBEkVQVJFkFSJDnkl66Lkc5PV4eXl5Xg2uXPx+Ph4PHt/fz+enVq1iksOmiV/s+R5JbwhqSJIqgiSKoKkiiCpIkiqCJIqgqSKIKkiSKpskzVUckIxWVkla7NVkrXZ9Cf2Xr16Nf7Mnz9/jmeT+xZXPdtkLZs8W29IqgiSKoKkiiCpIkiqCJIqgqSKIKkiSKoIkirb5BLSZAWUWHUR6qrLWKfPITmZlzzb9+/fj2e/fPkynl11uWnyd/CGpIogqSJIqgiSKoKkiiCpIkiqCJIqgqSKIKmyTYZXreKSU3Tn5+fj2bOzs/FsYvocVl1CmnzuqrVs4uTkZDzrDUkVQVJFkFQRJFUESRVBUkWQVBEkVQRJFUFSJbqwNFnFJRdwJqfdkosyV/3bpp+bnCRMnkEyu+pC2uRzk4tbvSGpIkiqCJIqgqSKIKkiSKoIkiqCpIogqSJIqmyTVVxy2u3t27e/832e1aF/PzBZRybPdtVpxt1ut+RzE96QVBEkVQRJFUFSRZBUESRVBEkVQVJFkFQRJFW2ye/xJafdkhN3yWxyMu7x8XE8m6zjppJ15KpVXPJsk9OBK57XZuMNSRlBUkWQVBEkVQRJFUFSRZBUESRVBEkVQVJle3p6eujvEP0eX7K+TFZ3iaOjo9HcqtOByTNIrFoHJrwhqSJIqgiSKoKkiiCpIkiqCJIqgqSKIKkiSKpsD/0FNptsddhgepoxWfHd3t6OZ+/v78ezK37DcbPJ1ozJyUdvSKoIkiqCpIogqSJIqgiSKoKkiiCpIkiqRJuaVT9/lmwTkv/1//bt23h2xd2X+/1+/Jl3d3fj2WSjcnJyMp5N7odM7ulMWvCGpIogqSJIqgiSKoKkiiCpIkiqCJIqgqSKIKmyXbUOTA5uJauwZMWWrCSTNV8yO5X8uxok94oma0ZvSKoIkiqCpIogqSJIqgiSKoKkiiCpIkiqCJIqFacOb25uxrOr7pLc7XbP/pmXl5fP/pmbTbaKm95ludlkpw6Pj4/Hs+6H5I8lSKoIkiqCpIogqSJIqgiSKoKkiiCpIkiqvHh6eno69JdITh0ms8klpFdXV+PZh4eH0VyyEr2+vh7PJmvZjx8/jmcTVof8EwRJFUFSRZBUESRVBEkVQVJFkFQRJFUESZX/AZkNStjOvXNoAAAAAElFTkSuQmCC\" y=\"-6.64\"/>\n   </g>\n  </g>\n </g>\n <defs>\n  <clipPath id=\"pe638e87a22\">\n   <rect height=\"217.44\" width=\"163.08\" x=\"7.2\" y=\"7.2\"/>\n  </clipPath>\n </defs>\n</svg>\n",
      "image/png": "[encoded data removed]"
     },
     "metadata": {
      "needs_background": "light"
     }
    },
    {
     "output_type": "display_data",
     "data": {
      "text/plain": "<Figure size 432x288 with 1 Axes>",
      "image/svg+xml": "<?xml version=\"1.0\" encoding=\"utf-8\" standalone=\"no\"?>\n<!DOCTYPE svg PUBLIC \"-//W3C//DTD SVG 1.1//EN\"\n  \"http://www.w3.org/Graphics/SVG/1.1/DTD/svg11.dtd\">\n<!-- Created with matplotlib (https://matplotlib.org/) -->\n<svg height=\"231.84pt\" version=\"1.1\" viewBox=\"0 0 177.48 231.84\" width=\"177.48pt\" xmlns=\"http://www.w3.org/2000/svg\" xmlns:xlink=\"http://www.w3.org/1999/xlink\">\n <metadata>\n  <rdf:RDF xmlns:cc=\"http://creativecommons.org/ns#\" xmlns:dc=\"http://purl.org/dc/elements/1.1/\" xmlns:rdf=\"http://www.w3.org/1999/02/22-rdf-syntax-ns#\">\n   <cc:Work>\n    <dc:type rdf:resource=\"http://purl.org/dc/dcmitype/StillImage\"/>\n    <dc:date>2020-11-23T22:16:53.500924</dc:date>\n    <dc:format>image/svg+xml</dc:format>\n    <dc:creator>\n     <cc:Agent>\n      <dc:title>Matplotlib v3.3.2, https://matplotlib.org/</dc:title>\n     </cc:Agent>\n    </dc:creator>\n   </cc:Work>\n  </rdf:RDF>\n </metadata>\n <defs>\n  <style type=\"text/css\">*{stroke-linecap:butt;stroke-linejoin:round;}</style>\n </defs>\n <g id=\"figure_1\">\n  <g id=\"patch_1\">\n   <path d=\"M 0 231.84 \nL 177.48 231.84 \nL 177.48 0 \nL 0 0 \nz\n\" style=\"fill:none;\"/>\n  </g>\n  <g id=\"axes_1\">\n   <g clip-path=\"url(#p9a86fc1d01)\">\n    <image height=\"218\" id=\"image4421a42b90\" transform=\"scale(1 -1)translate(0 -218)\" width=\"164\" x=\"7.2\" xlink:href=\"data:image/png;base64,\niVBORw0KGgoAAAANSUhEUgAAAKQAAADaCAYAAAAonenwAAAFmUlEQVR4nO3dvW4UWRSF0ZpRJ8Zk/IQ2qeOGDERK7NfhSXgKQohxasekbjsDh5gOZ17hbGnuzB5prfio1N3+VIGPbtUf19fXf21DV1dX09HtcDiMZ29ubpZc9+fPn+PZ4/E4np06OTn5x6+5bdt2eno6nr24uBjPPn/+fDz74cOHJZ/hz/Ek/AsESRVBUkWQVBEkVQRJFUFSRZBUESRVBEmV3e/fv8fD379/H88ma7tkNvHixYvx7H6/H8+en5+P5pLVYbK6XPV3SNayieTzukNSRZBUESRVBEkVQVJFkFQRJFUESRVBUkWQVNklJ/6SNVSyLnr9+vV49t27d+PZZC2arA6nK8knT56Mr5lIVnxfvnwZz37+/Hk8u+qkqDskVQRJFUFSRZBUESRVBEkVQVJFkFQRJFUESZVdst5KVnGr1mbTE3/blj2AMzmheHZ2NppLfq9E8r2Sv8PTp0/Hs58+fRrPPjw8jGfdIakiSKoIkiqCpIogqSJIqgiSKoKkiiCpIkiq7JKVWWLV+/iSVViyZlxh1fo0kfwdVq0kkxWqOyRVBEkVQVJFkFQRJFUESRVBUkWQVBEkVQRJlWWnDhPJZ1i16vyv13zJybxE8pDZ5DdYNesOSRVBUkWQVBEkVQRJFUFSRZBUESRVBEmV3aoLPz4+jmd//Pgxnl21eUis2Fit2oIlr/hLXheXbJaSw2PukFQRJFUESRVBUkWQVBEkVQRJFUFSRZBUESRVotXhqucHHo/H8ezhcBjPrnoV3vSgWXLNZCWafK/b29vx7Ldv38azieRgnjskVQRJFUFSRZBUESRVBEkVQVJFkFQRJFUESZXdqtNuyboo+QzJabdV3y1ZX65wd3c3nr2/vx/PJn+zZC16eXk5nnWHpIogqSJIqgiSKoKkiiCpIkiqCJIqgqSKIKmy7NVyyWyyskoewPns2bPx7MuXL8ez0/XlqpOEyWzy4Ni3b9+OZ9+/fz+evbi4GM+6Q1JFkFQRJFUESRVBUkWQVBEkVQRJFUFSRZBUiU4dJmvG5HTgqgd7JmvG8/Pz8ezUqs+a/F4fP34czyYr3GQd6F2H/G8JkiqCpIogqSJIqgiSKoKkiiCpIkiqCJIqu2Sts+ohpIkVK75tW7e+nEpWccnfIVnhrloHJr+tOyRVBEkVQVJFkFQRJFUESRVBUkWQVBEkVQRJlV2yhkoeAJpIrvvmzZvx7IoV37Zt29evX0dzyW+bSNZ2yWwDd0iqCJIqgqSKIKkiSKoIkiqCpIogqSJIqgiSKtG7Do/H43g2uW7ynsHk3X3JZ0jWfJeXl6O55MRf8sDS5Lp3d3fj2eREZ3Lds7Oz8aw7JFUESRVBUkWQVBEkVQRJFUFSRZBUESRVBEmVaHV4cnIynk3WjMnKKllDnZ6ejmcT05N8q973eHV1NZ5N3NzcjGf3+/2Sz+AOSRVBUkWQVBEkVQRJFUFSRZBUESRVBEkVQVJll7yT8NWrV+PZ29vb8ezhcBjPJu/jS/zXDwFNHq6arBkTyfda9S5Ld0iqCJIqgqSKIKkiSKoIkiqCpIogqSJIquwaNgTJf/2vr6/Hs8kzH1e9hm4qOWCV/F6rnpGZSJ7p6Q5JFUFSRZBUESRVBEkVQVJFkFQRJFUESRVBUiU65JW8Tix5PuT9/f14NlnxJYfHVkh+2+R7JddNDsUlr7dbddjOHZIqgqSKIKkiSKoIkiqCpIogqSJIqgiSKoKkyi4ZTl7rtuoUX3I6b9VnmK7ukhVfcjIvWdslpw5XnSpNXvHnDkkVQVJFkFQRJFUESRVBUkWQVBEkVQRJFUFS5Y/Hx8e/psMPDw/jCycn2JIVX3LycZVfv36N5pKTl4n9fj+eTdaMqx5Ymryyzh2SKoKkiiCpIkiqCJIqgqSKIKkiSKoIkiqCpMrf+L9qkfVh0LsAAAAASUVORK5CYII=\" y=\"-6.64\"/>\n   </g>\n  </g>\n </g>\n <defs>\n  <clipPath id=\"p9a86fc1d01\">\n   <rect height=\"217.44\" width=\"163.08\" x=\"7.2\" y=\"7.2\"/>\n  </clipPath>\n </defs>\n</svg>\n",
      "image/png": "[encoded data removed]"
     },
     "metadata": {
      "needs_background": "light"
     }
    },
    {
     "output_type": "display_data",
     "data": {
      "text/plain": "<Figure size 432x288 with 1 Axes>",
      "image/svg+xml": "<?xml version=\"1.0\" encoding=\"utf-8\" standalone=\"no\"?>\n<!DOCTYPE svg PUBLIC \"-//W3C//DTD SVG 1.1//EN\"\n  \"http://www.w3.org/Graphics/SVG/1.1/DTD/svg11.dtd\">\n<!-- Created with matplotlib (https://matplotlib.org/) -->\n<svg height=\"231.84pt\" version=\"1.1\" viewBox=\"0 0 177.48 231.84\" width=\"177.48pt\" xmlns=\"http://www.w3.org/2000/svg\" xmlns:xlink=\"http://www.w3.org/1999/xlink\">\n <metadata>\n  <rdf:RDF xmlns:cc=\"http://creativecommons.org/ns#\" xmlns:dc=\"http://purl.org/dc/elements/1.1/\" xmlns:rdf=\"http://www.w3.org/1999/02/22-rdf-syntax-ns#\">\n   <cc:Work>\n    <dc:type rdf:resource=\"http://purl.org/dc/dcmitype/StillImage\"/>\n    <dc:date>2020-11-23T22:16:53.572415</dc:date>\n    <dc:format>image/svg+xml</dc:format>\n    <dc:creator>\n     <cc:Agent>\n      <dc:title>Matplotlib v3.3.2, https://matplotlib.org/</dc:title>\n     </cc:Agent>\n    </dc:creator>\n   </cc:Work>\n  </rdf:RDF>\n </metadata>\n <defs>\n  <style type=\"text/css\">*{stroke-linecap:butt;stroke-linejoin:round;}</style>\n </defs>\n <g id=\"figure_1\">\n  <g id=\"patch_1\">\n   <path d=\"M 0 231.84 \nL 177.48 231.84 \nL 177.48 0 \nL 0 0 \nz\n\" style=\"fill:none;\"/>\n  </g>\n  <g id=\"axes_1\">\n   <g clip-path=\"url(#p8697b784d6)\">\n    <image height=\"218\" id=\"imagee37aab1fe5\" transform=\"scale(1 -1)translate(0 -218)\" width=\"164\" x=\"7.2\" xlink:href=\"data:image/png;base64,\niVBORw0KGgoAAAANSUhEUgAAAKQAAADaCAYAAAAonenwAAAFNUlEQVR4nO3dsTJkWxTH4Z5bJ2mEWkanxKSkxDwiqQeQkpIiJdSECHteYa2q2Xf+7v2+eNWpY+ZXO1m1T/9ar9frWdH7+3t1dPby8lKevbq6GvLch4eH8uxqtSrPfn9/l2d/kvl8Xp5dLpfl2Y2NjfLsP+VJ+BcIkiiCJIogiSJIogiSKIIkiiCJIkiiCJIoU2e4s7a7u7srz97e3pZnn56eyrOjVnzVFdvm5mb5mZ+fn+XZxWJRnu2s7b6+vsqzHZ2VsxOSKIIkiiCJIkiiCJIogiSKIIkiSKIIkiiCJMrUWevc3NyUZy8vL8uznZVkR+cWXWfNd3x8XJo7OTkpP7Oz4uusDju3KTstdJ7bWUk6IYkiSKIIkiiCJIogiSJIogiSKIIkiiCJIkiiTJ213fX1dXl21DqwszY7Pz8vzx4cHJRnqyvB/f398jM767XOmrHz0daOUe/rhCSKIIkiSKIIkiiCJIogiSJIogiSKIIkiiCJMnU+APr6+jrkJTpru4uLi/Ls4eFhebZ6k3A2663C/uYzZ7Pev0FnHdi5oejWIT+WIIkiSKIIkiiCJIogiSJIogiSKIIkiiCJ0vpgaWe2Y7lclmc7K77OSnLU6u4n6fwbbG9vl2etDvmxBEkUQRJFkEQRJFEESRRBEkWQRBEkUaZR3w/c29srz56dnZVnO1udzjaBns5Wx/ch+bEESRRBEkWQRBEkUQRJFEESRZBEESRRBEmUabVaDXlwZ8U3ag3Fz+OEJIogiSJIogiSKIIkiiCJIkiiCJIogiSKIIkydb7dN5/Ph7zEYrEoz1od/rc5IYkiSKIIkiiCJIogiSJIogiSKIIkiiCJIkiiTJ3bgff390NeonPzsbPq7LCSzOCEJIogiSJIogiSKIIkiiCJIkiiCJIogiSKIIkyjfo9wM/Pz/Ls+/v7kNlRf5s14zhOSKIIkiiCJIogiSJIogiSKIIkiiCJIkiiCJIo08HBQXl4c3OzPNtZ8T09PZVnj4+Py7OjfkOxevPRirHPCUkUQRJFkEQRJFEESRRBEkWQRBEkUQRJFEESpbU6HLFe6z63s2YcteoccZtx1IdYRxm1FnVCEkWQRBEkUQRJFEESRZBEESRRBEkUQRJFkESZOiugzpqxs+J7eXkpz87n8/JsZx14dnb2x5/bWTF23jXh9x6tDvlfECRRBEkUQRJFkEQRJFEESRRBEkWQRBEkUabFYlEe7qwOV6tVebazCvv4+CjP7uzslGdvb2/Ls8vl8o/OzWa934bsGHX7s9NN5x2ckEQRJFEESRRBEkWQRBEkUQRJFEESRZBEESRRpr29vfLwyclJebazLrq/vx/y3M5s54Zg9UZlZ73W+X/ofIh1xMdVZ7PearjDCUkUQRJFkEQRJFEESRRBEkWQRBEkUQRJlKkzPOpbkp2NSudbko+Pj+XZEduPzt/VuWTW+X84Ojoqz3a2OqMuhDkhiSJIogiSKIIkiiCJIkiiCJIogiSKIIkiSKK0VoeddWDHqJ8061we61xaql7yGvV3dVaSnZXo7u5uebbz7c3OOzghiSJIogiSKIIkiiCJIkiiCJIogiSKIIkiSKK0Voedbxh2VnGd2cPDw/JsZx1XXQd2dFZ8o57bWQdubW2VZ0etRZ2QRBEkUQRJFEESRZBEESRRBEkUQRJFkEQRJFF+rdfr9d9+iVE/F9dZB3Zmq+/w9vZWfubz83N5tnOL7/T0tDy7XC7Ls52PkHY4IYkiSKIIkiiCJIogiSJIogiSKIIkiiCJIkii/AbD2SQsYYkOGgAAAABJRU5ErkJggg==\" y=\"-6.64\"/>\n   </g>\n  </g>\n </g>\n <defs>\n  <clipPath id=\"p8697b784d6\">\n   <rect height=\"217.44\" width=\"163.08\" x=\"7.2\" y=\"7.2\"/>\n  </clipPath>\n </defs>\n</svg>\n",
      "image/png": "[encoded data removed]"
     },
     "metadata": {
      "needs_background": "light"
     }
    },
    {
     "output_type": "display_data",
     "data": {
      "text/plain": "<Figure size 432x288 with 1 Axes>",
      "image/svg+xml": "<?xml version=\"1.0\" encoding=\"utf-8\" standalone=\"no\"?>\n<!DOCTYPE svg PUBLIC \"-//W3C//DTD SVG 1.1//EN\"\n  \"http://www.w3.org/Graphics/SVG/1.1/DTD/svg11.dtd\">\n<!-- Created with matplotlib (https://matplotlib.org/) -->\n<svg height=\"231.84pt\" version=\"1.1\" viewBox=\"0 0 177.48 231.84\" width=\"177.48pt\" xmlns=\"http://www.w3.org/2000/svg\" xmlns:xlink=\"http://www.w3.org/1999/xlink\">\n <metadata>\n  <rdf:RDF xmlns:cc=\"http://creativecommons.org/ns#\" xmlns:dc=\"http://purl.org/dc/elements/1.1/\" xmlns:rdf=\"http://www.w3.org/1999/02/22-rdf-syntax-ns#\">\n   <cc:Work>\n    <dc:type rdf:resource=\"http://purl.org/dc/dcmitype/StillImage\"/>\n    <dc:date>2020-11-23T22:16:53.637797</dc:date>\n    <dc:format>image/svg+xml</dc:format>\n    <dc:creator>\n     <cc:Agent>\n      <dc:title>Matplotlib v3.3.2, https://matplotlib.org/</dc:title>\n     </cc:Agent>\n    </dc:creator>\n   </cc:Work>\n  </rdf:RDF>\n </metadata>\n <defs>\n  <style type=\"text/css\">*{stroke-linecap:butt;stroke-linejoin:round;}</style>\n </defs>\n <g id=\"figure_1\">\n  <g id=\"patch_1\">\n   <path d=\"M 0 231.84 \nL 177.48 231.84 \nL 177.48 0 \nL 0 0 \nz\n\" style=\"fill:none;\"/>\n  </g>\n  <g id=\"axes_1\">\n   <g clip-path=\"url(#p6ee9e73e3d)\">\n    <image height=\"218\" id=\"imagedd40261537\" transform=\"scale(1 -1)translate(0 -218)\" width=\"164\" x=\"7.2\" xlink:href=\"data:image/png;base64,\niVBORw0KGgoAAAANSUhEUgAAAKQAAADaCAYAAAAonenwAAAFUElEQVR4nO3dPU4dWRSF0XLrJRhC45gYSMnJHcMcmBVDIbdD4/QRAyE/oXsKZ7d82xtprfioVDw+VXJ0qz7d3Nz83oZ+/PgxHd1eXl7Gs8/Pz0uu+/7+Pp5NHBwc/PFrfv36dTx7cnIynr2+vh7Pnp6ejmeT+z0+Ph7P/jOehP+BIKkiSKoIkiqCpIogqSJIqgiSKoKkiiCpsjs/Px8PPzw8jGc/f/48nk3WUG9vb+PZx8fH8ewKyW+QSP4Pd3d349nk97q8vBzPJjwhqSJIqgiSKoKkiiCpIkiqCJIqgqSKIKkiSKrskhNhiVWn6JL1VnKKLrmH6foyWR3++vVrPJtI1oyrrpucfPSEpIogqSJIqgiSKoKkiiCpIkiqCJIqgqSKIKnyab/fj19Yent7O75wslpadYLt8PDwr143Wcu+vr6OZ5OThMlKMnkZbHL6M1nhekJSRZBUESRVBEkVQVJFkFQRJFUESRVBUkWQVNklpwOTVVxy4m7Vim+V6QnFZHWYrFq/ffs2nk1WfMk9JLNJY56QVBEkVQRJFUFSRZBUESRVBEkVQVJFkFQRJFV2yXDyUs/9fj+efXp6WnIPyUm+xHQtmqxEk9nk70pO/K06dfjz58/xrCckVQRJFUFSRZBUESRVBEkVQVJFkFQRJFWiTU0iOdiTfC5u1eGxZPsx3VKs+ruS2bOzs/Fs8i7J5B6SrY4nJFUESRVBUkWQVBEkVQRJFUFSRZBUESRVBEmVZavDZF206rof6b2Tq9acieR9lolkzegJSRVBUkWQVBEkVQRJFUFSRZBUESRVBEkVQVIlWh2u+rRcg2QlmZwmnEpOByYnOletcJN7SE4zekJSRZBUESRVBEkVQVJFkFQRJFUESRVBUkWQVFl26jCRrKESqz7tNl3HNaxP//bn9bYt+3SgJyRVBEkVQVJFkFQRJFUESRVBUkWQVBEkVQRJld2q1VKD5HRgsr6crs2SE3/39/fj2eSEYvL/XfG9x23btoODg/GsJyRVBEkVQVJFkFQRJFUESRVBUkWQVBEkVQRJlWh12HCKLrmHj/SC1WQV9/DwsOQeVryIddu27ejoaDzrCUkVQVJFkFQRJFUESRVBUkWQVBEkVQRJFUFSZZes1xKrrrvidOC2Zfc7Xd0l10zWdslsspJc9b3H5P/gCUkVQVJFkFQRJFUESRVBUkWQVBEkVQRJFUFSZdm3DpO12cnJyZJ7SFZhyf1OT2quegFoYtVKMjlJeHl5OZ71hKSKIKkiSKoIkiqCpIogqSJIqgiSKoKkiiCpEq0OV50kbPge34pvPj49PY1nj4+Px7PJC0uT2eT3+vLly3j2/Px8POsJSRVBUkWQVBEkVQRJFUFSRZBUESRVBEkVQVIl+tbhqm/s3d/fL7nuipOEyXWT1eF+vx/PPj8/j2cTyenPVbOekFQRJFUESRVBUkWQVBEkVQRJFUFSRZBU2SUHe5JNzaoNUPIOw2SjkXz+bCr5DF7ydyWSLUnyHsdVn/jzhKSKIKkiSKoIkiqCpIogqSJIqgiSKoKkiiCpsru7uxsPf//+fTybrMJWfVbt5eVlyXWnVq0Dk1Xc2dnZeDZZBybvs0wO23lCUkWQVBEkVQRJFUFSRZBUESRVBEkVQVJFkFSJ3g+ZSNaByYrv6Ojov9zOHzU9ybfiJOO2ZSu+i4uL8Wyy4ktmvR+SD0uQVBEkVQRJFUFSRZBUESRVBEkVQVJFkFTZXV1dLblwsi5KVmyr1lunp6fj2enqbtWpw1WnAxPJb+uFpXxYgqSKIKkiSKoIkiqCpIogqSJIqgiSKoKkyr+Uw0f84X5NHwAAAABJRU5ErkJggg==\" y=\"-6.64\"/>\n   </g>\n  </g>\n </g>\n <defs>\n  <clipPath id=\"p6ee9e73e3d\">\n   <rect height=\"217.44\" width=\"163.08\" x=\"7.2\" y=\"7.2\"/>\n  </clipPath>\n </defs>\n</svg>\n",
      "image/png": "[encoded data removed]"
     },
     "metadata": {
      "needs_background": "light"
     }
    },
    {
     "output_type": "display_data",
     "data": {
      "text/plain": "<Figure size 432x288 with 1 Axes>",
      "image/svg+xml": "<?xml version=\"1.0\" encoding=\"utf-8\" standalone=\"no\"?>\n<!DOCTYPE svg PUBLIC \"-//W3C//DTD SVG 1.1//EN\"\n  \"http://www.w3.org/Graphics/SVG/1.1/DTD/svg11.dtd\">\n<!-- Created with matplotlib (https://matplotlib.org/) -->\n<svg height=\"231.84pt\" version=\"1.1\" viewBox=\"0 0 177.48 231.84\" width=\"177.48pt\" xmlns=\"http://www.w3.org/2000/svg\" xmlns:xlink=\"http://www.w3.org/1999/xlink\">\n <metadata>\n  <rdf:RDF xmlns:cc=\"http://creativecommons.org/ns#\" xmlns:dc=\"http://purl.org/dc/elements/1.1/\" xmlns:rdf=\"http://www.w3.org/1999/02/22-rdf-syntax-ns#\">\n   <cc:Work>\n    <dc:type rdf:resource=\"http://purl.org/dc/dcmitype/StillImage\"/>\n    <dc:date>2020-11-23T22:16:53.707497</dc:date>\n    <dc:format>image/svg+xml</dc:format>\n    <dc:creator>\n     <cc:Agent>\n      <dc:title>Matplotlib v3.3.2, https://matplotlib.org/</dc:title>\n     </cc:Agent>\n    </dc:creator>\n   </cc:Work>\n  </rdf:RDF>\n </metadata>\n <defs>\n  <style type=\"text/css\">*{stroke-linecap:butt;stroke-linejoin:round;}</style>\n </defs>\n <g id=\"figure_1\">\n  <g id=\"patch_1\">\n   <path d=\"M 0 231.84 \nL 177.48 231.84 \nL 177.48 0 \nL 0 0 \nz\n\" style=\"fill:none;\"/>\n  </g>\n  <g id=\"axes_1\">\n   <g clip-path=\"url(#p271eb28929)\">\n    <image height=\"218\" id=\"imagefd7afd2e99\" transform=\"scale(1 -1)translate(0 -218)\" width=\"164\" x=\"7.2\" xlink:href=\"data:image/png;base64,\niVBORw0KGgoAAAANSUhEUgAAAKQAAADaCAYAAAAonenwAAAFeElEQVR4nO3dsVJUaxaG4T5TnbQYiplgKISimRobe4vG4j2gocQdI5kYioScS5j1zZx//Kh5nnjVdtO+tZNV/95/nZ+f32+GPn78OB3dXF1djWcTP3/+XHLdP+33799Lrnt0dDSePT09Hc8+e/ZsPPv06dPx7L/Gk/A/IEiqCJIqgqSKIKkiSKoIkiqCpIogqSJIqmwvLi7Gw/v9fjybrMJubm7GswcHB+PZxO3t7T9+zbu7u/Hsbrcbzya/QfL/kKx7k9Vhcg+ekFQRJFUESRVBUkWQVBEkVQRJFUFSRZBUESRVtsnwqpOEx8fH49lHjx798XuYrsKSe121En3y5MmS6yYnCZPf1hOSKoKkiiCpIkiqCJIqgqSKIKkiSKoIkiqCpMp21Wm35EWZh4eH49kPHz6MZ09OTsazyYtQpyvB5LRdsmZc9XLTVZK/zROSKoKkiiCpIkiqCJIqgqSKIKkiSKoIkiqCpEp06nCV9+/fj2ffvXs3nk1O3CXrrRXfW1x1OjBZM65adVod8mAJkiqCpIogqSJIqgiSKoKkiiCpIkiqCJIq29evX4+HP3/+PJ5NTij++PFjPJu8NDU5+Zist1at+VZ4SPe62XhCUkaQVBEkVQRJFUFSRZBUESRVBEkVQVJlu+og1O3t7Xj2+vp6PLvq83bJuyRXfN5u1TsfbWrgvyBIqgiSKoKkiiCpIkiqCJIqgqSKIKkiSKpE74c8Pj4ezyYrvouLi/FsspJ89erVeDa53+nvsGoduOrdjMls8jlA74fkwRIkVQRJFUFSRZBUESRVBEkVQVJFkFQRJFW2yVqnYRV2eXk5nt3v90vuYfo7JKvWRPL/8ObNm/Hs6enpeDb5vF5y8tETkiqCpIogqSJIqgiSKoKkiiCpIkiqCJIqgqTKslOHiZubm/FsctotOUmYXHf62bxkxZfca7KK+/r163j28ePH49nk04HJ7+AJSRVBUkWQVBEkVQRJFUFSRZBUESRVBEkVQVJlm6zMkhVQct1VL0I9OzsbzyaSE3dTq75JmLzg9du3b+PZ5H6dOuTBEiRVBEkVQVJFkFQRJFUESRVBUkWQVBEkVaJThycnJ+PZ5CRh4uXLl+PZ58+fj2dXnKhc9RskVr1YNPm9fOuQB0uQVBEkVQRJFUFSRZBUESRVBEkVQVJFkFTZJuuiZAWUSE4z7na7JddNTNdmb9++HV8zudcVpx43m+z/d1ULnpBUESRVBEkVQVJFkFQRJFUESRVBUkWQVBEkVbarTqUl9vv9eDb5Ht8qK9Zmq14Amli1ak14QlJFkFQRJFUESRVBUkWQVBEkVQRJFUFSRZBU2SbrolWzK14WutlkK7bLy8vx7PRvS17wuuoU39HR0ZLrOnXI/wVBUkWQVBEkVQRJFUFSRZBUESRVBEkVQVJlm6yADg8Px7PJacarq6vxbHK/v379Gs9eX1+PZ1d8wzD5u5JV65cvX/74PSQ8IakiSKoIkiqCpIogqSJIqgiSKoKkiiCpEm1qktnkgFWy+UgOjyXvnVyxLUq2VasOTSUHzZLf9uzs7D+5nX/LE5IqgqSKIKkiSKoIkiqCpIogqSJIqgiSKoKkSvR+yFVrxuTwWHJwK1lJJvc7XQl++vRpfM27u7vxbGK3241nDw4OxrPJSjI5EOYJSRVBUkWQVBEkVQRJFUFSRZBUESRVBEkVQVJlmwwnK75Esr5MvHjxYjyb/G3Jacap79+//+PX3GzWrSSTU5rJCtcTkiqCpIogqSJIqgiSKoKkiiCpIkiqCJIqgqTKX/f39/crLrxqHbhKsrpL1mYrJP/++fn5eDY5eZmcUEyu6wlJFUFSRZBUESRVBEkVQVJFkFQRJFUESRVBUuVvefoojnHkkj4AAAAASUVORK5CYII=\" y=\"-6.64\"/>\n   </g>\n  </g>\n </g>\n <defs>\n  <clipPath id=\"p271eb28929\">\n   <rect height=\"217.44\" width=\"163.08\" x=\"7.2\" y=\"7.2\"/>\n  </clipPath>\n </defs>\n</svg>\n",
      "image/png": "[encoded data removed]"
     },
     "metadata": {
      "needs_background": "light"
     }
    }
   ],
   "source": [
    "import matplotlib.pyplot as plt\n",
    "\n",
    "#draw the estimation for letter 'A'\n",
    "plt.figure(1)\n",
    "drawA = np.transpose(np.vstack((pcd1[:20],pcd1[20:40],pcd1[40:60],pcd1[60:80],pcd1[80:100],pcd1[100:120],pcd1[120:140],pcd1[140:160],pcd1[160:180],pcd1[180:200],pcd1[200:220],pcd1[240:260],pcd1[260:280],pcd1[280:300],pcd1[300:320])))\n",
    "plt.axis('off') #hides the axis on the output image\n",
    "plt.imshow(drawA, cmap='binary')\n",
    "\n",
    "#draw the estimation for letter 'B'\n",
    "plt.figure(2)\n",
    "drawB = np.transpose(np.vstack((pcd2[:20],pcd2[20:40],pcd2[40:60],pcd2[60:80],pcd2[80:100],pcd2[100:120],pcd2[120:140],pcd2[140:160],pcd2[160:180],pcd2[180:200],pcd2[200:220],pcd2[240:260],pcd2[260:280],pcd2[280:300],pcd2[300:320])))\n",
    "plt.axis('off') #hides the axis on the output image\n",
    "plt.imshow(drawB, cmap='binary')\n",
    "\n",
    "#draw the estimation for letter 'C'\n",
    "plt.figure(3)\n",
    "drawC = np.transpose(np.vstack((pcd3[:20],pcd3[20:40],pcd3[40:60],pcd3[60:80],pcd3[80:100],pcd3[100:120],pcd3[120:140],pcd3[140:160],pcd3[160:180],pcd3[180:200],pcd3[200:220],pcd3[240:260],pcd3[260:280],pcd3[280:300],pcd3[300:320])))\n",
    "plt.axis('off') #hides the axis on the output image\n",
    "plt.imshow(drawC, cmap='binary')\n",
    "\n",
    "#draw the estimation for letter 'D'\n",
    "plt.figure(4)\n",
    "drawD = np.transpose(np.vstack((pcd4[:20],pcd4[20:40],pcd4[40:60],pcd4[60:80],pcd4[80:100],pcd4[100:120],pcd4[120:140],pcd4[140:160],pcd4[160:180],pcd4[180:200],pcd4[200:220],pcd4[240:260],pcd4[260:280],pcd4[280:300],pcd4[300:320])))\n",
    "plt.axis('off') #hides the axis on the output image\n",
    "plt.imshow(drawD, cmap='binary')\n",
    "\n",
    "#draw the estimation for letter 'E'\n",
    "plt.figure(5)\n",
    "drawE = np.transpose(np.vstack((pcd5[:20],pcd5[20:40],pcd5[40:60],pcd5[60:80],pcd5[80:100],pcd5[100:120],pcd5[120:140],pcd5[140:160],pcd5[160:180],pcd5[180:200],pcd5[200:220],pcd5[240:260],pcd5[260:280],pcd5[280:300],pcd5[300:320])))\n",
    "plt.axis('off') #hides the axis on the output image\n",
    "plt.imshow(drawE, cmap='binary')"
   ]
  },
  {
   "source": [
    "### making the predictions "
   ],
   "cell_type": "markdown",
   "metadata": {}
  },
  {
   "cell_type": "code",
   "execution_count": 186,
   "metadata": {},
   "outputs": [],
   "source": [
    "def safelog(x): # to prevent flow\n",
    "    return(np.log(x + 1e-100))#to prevent log0"
   ]
  },
  {
   "cell_type": "code",
   "execution_count": 187,
   "metadata": {},
   "outputs": [],
   "source": [
    "#discriminant function\n",
    "def discriminant(x, pcd, prior): # returns the discriminant value\n",
    "    term1 = np.matmul(1.0- x.astype(float), safelog(1.0- pcd)) + safelog(0.2)\n",
    "    term2 = np.matmul(x.astype(float), safelog(pcd)) + np.matmul(1.0- x.astype(float), safelog(1.0- pcd))\n",
    "    term3 = safelog(0.2)\n",
    "    return  term1 + term2 + term3\n",
    "    \n",
    "    "
   ]
  },
  {
   "cell_type": "code",
   "execution_count": 188,
   "metadata": {},
   "outputs": [],
   "source": [
    "#discriminant function\n",
    "#def discriminant(x, pcd, prior): # returns the discriminant value\n",
    "#    x = x.astype(float)\n",
    "#    ones = np.ones(320)\n",
    "#    term1 = x * safelog(pcd)# (320,)\n",
    "#    term2 = ones - x * safelog(ones - pcd) # (320,)\n",
    "#    termsSum = term1 + term2\n",
    "    \n",
    "#    return np.sum(termsSum) + prior"
   ]
  },
  {
   "source": [
    "### Confusion Matrix for the training data set"
   ],
   "cell_type": "markdown",
   "metadata": {}
  },
  {
   "cell_type": "code",
   "execution_count": 189,
   "metadata": {},
   "outputs": [],
   "source": [
    "# one-of-K encoding truth values\n",
    "y_truth = trainingDataSet[:,-1]\n",
    "Y_truth = np.zeros((len(y_truth), 5)).astype(int)\n",
    "for i in range(y_truth.shape[0]):\n",
    "    if(y_truth[i] == '1'):\n",
    "        Y_truth[i, 0] = 1\n",
    "    if(y_truth[i] == '2'):\n",
    "        Y_truth[i, 1] = 1\n",
    "    if(y_truth[i] == '3'):\n",
    "        Y_truth[i, 2] = 1\n",
    "    if(y_truth[i] == '4'):\n",
    "        Y_truth[i, 3] = 1\n",
    "    if(y_truth[i] == '5'):\n",
    "        Y_truth[i, 4] = 1"
   ]
  },
  {
   "source": [
    "#predict for training data set\n",
    "Y_predicted = np.array([[1, 2, 3, 4, 5]])# to initialize so that np.append doesnt raise an error\n",
    "for row in trainingDataSet[:,:-1]:\n",
    "    #calculate the discriminant values for each class\n",
    "    discriminant1 = discriminant(row, pcd1, prior1)\n",
    "    discriminant2 = discriminant(row, pcd2, prior2)\n",
    "    discriminant3 = discriminant(row, pcd3, prior3)\n",
    "    discriminant4 = discriminant(row, pcd4, prior4)\n",
    "    discriminant5 = discriminant(row, pcd5, prior5)\n",
    "    #return discriminant values as array to calculate one of k encoding later on\n",
    "    Y_predicted = np.append(Y_predicted, [[discriminant1, discriminant2, discriminant3, discriminant4, discriminant5]], axis = 0)\n",
    "Y_predicted = Y_predicted[1:,:]#get rid of the initialized first row  #(125,5)\n"
   ],
   "cell_type": "code",
   "metadata": {
    "tags": []
   },
   "execution_count": 190,
   "outputs": []
  },
  {
   "cell_type": "code",
   "execution_count": 191,
   "metadata": {},
   "outputs": [
    {
     "output_type": "stream",
     "name": "stdout",
     "text": [
      "y_truth   A   B   C   D   E\ny_pred                     \n1        25   0   0   0   0\n2         0  24   1   0   1\n3         0   0  24   0   0\n4         0   1   0  25   0\n5         0   0   0   0  24\n"
     ]
    }
   ],
   "source": [
    "#calculate the confusion matrix for the training data set\n",
    "y_predicted = np.argmax(Y_predicted, axis = 1) + 1\n",
    "confusion_matrix = pd.crosstab(y_predicted, y_truth, rownames = ['y_pred'], colnames = ['y_truth'])\n",
    "print(confusion_matrix)"
   ]
  },
  {
   "source": [
    "### Confusion Matrix for the test Data set"
   ],
   "cell_type": "markdown",
   "metadata": {}
  },
  {
   "cell_type": "code",
   "execution_count": 192,
   "metadata": {},
   "outputs": [],
   "source": [
    "# one-of-K encoding truth values\n",
    "y_truth = testDataSet[:,-1]\n",
    "Y_truth = np.zeros((len(y_truth), 5)).astype(int)\n",
    "for i in range(y_truth.shape[0]):\n",
    "    if(y_truth[i] == '1'):\n",
    "        Y_truth[i, 0] = 1\n",
    "    if(y_truth[i] == '2'):\n",
    "        Y_truth[i, 1] = 1\n",
    "    if(y_truth[i] == '3'):\n",
    "        Y_truth[i, 2] = 1\n",
    "    if(y_truth[i] == '4'):\n",
    "        Y_truth[i, 3] = 1\n",
    "    if(y_truth[i] == '5'):\n",
    "        Y_truth[i, 4] = 1"
   ]
  },
  {
   "cell_type": "code",
   "execution_count": 193,
   "metadata": {},
   "outputs": [],
   "source": [
    "#predict for training data set\n",
    "Y_predicted = np.array([[1, 2, 3, 4, 5]])# to initialize so that np.append doesnt raise an error\n",
    "for row in testDataSet[:,:-1]:\n",
    "    #calculate the discriminant values for each class\n",
    "    discriminant1 = discriminant(row, pcd1, prior1)\n",
    "    discriminant2 = discriminant(row, pcd2, prior2)\n",
    "    discriminant3 = discriminant(row, pcd3, prior3)\n",
    "    discriminant4 = discriminant(row, pcd4, prior4)\n",
    "    discriminant5 = discriminant(row, pcd5, prior5)\n",
    "    #return discriminant values as array to calculate one of k encoding later on\n",
    "    Y_predicted = np.append(Y_predicted, [[discriminant1, discriminant2, discriminant3, discriminant4, discriminant5]], axis = 0)\n",
    "Y_predicted = Y_predicted[1:,:]#get rid of the initialized first row  #(125,5)\n"
   ]
  },
  {
   "cell_type": "code",
   "execution_count": 194,
   "metadata": {},
   "outputs": [
    {
     "output_type": "stream",
     "name": "stdout",
     "text": [
      "y_truth  A   B  C   D   E\ny_pred                   \n1        7   0  0   0   0\n2        0  11  3   2   4\n3        0   0  7   0   0\n4        7   3  3  12   0\n5        0   0  1   0  10\n"
     ]
    }
   ],
   "source": [
    "#calculate the confusion matrix for the test data set\n",
    "y_predicted = np.argmax(Y_predicted, axis = 1) + 1\n",
    "confusion_matrix = pd.crosstab(y_predicted, y_truth, rownames = ['y_pred'], colnames = ['y_truth'])\n",
    "print(confusion_matrix)"
   ]
  }
 ]
}